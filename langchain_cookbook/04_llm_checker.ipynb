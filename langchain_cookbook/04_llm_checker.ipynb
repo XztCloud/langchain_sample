{
 "cells": [
  {
   "cell_type": "markdown",
   "metadata": {},
   "source": [
    "# Self-checking chain\n",
    "This notebook showcases how to use LLMCheckerChain."
   ]
  },
  {
   "cell_type": "code",
   "execution_count": 1,
   "metadata": {},
   "outputs": [
    {
     "name": "stdout",
     "output_type": "stream",
     "text": [
      "\n",
      "\n",
      "\u001b[1m> Entering new LLMCheckerChain chain...\u001b[0m\n",
      "\n",
      "\n",
      "\u001b[1m> Entering new SequentialChain chain...\u001b[0m\n",
      "\n",
      "\u001b[1m> Finished chain.\u001b[0m\n",
      "\n",
      "\u001b[1m> Finished chain.\u001b[0m\n"
     ]
    },
    {
     "data": {
      "text/plain": [
       "{'query': '哪种哺乳动物产的蛋最大？',\n",
       " 'result': '**Answer:**\\n\\n根据上述分析，产最大蛋的现存哺乳动物是**鸭嘴兽（platypus）**。\\n\\n鸭嘴兽属于哺乳动物中的单孔目（Monotremata），是极少数仍存活的卵生哺乳动物之一。它的卵大小约为**11毫米直径**，比另一种现存的卵生哺乳动物——针鼹（echidna）的卵更大。针鼹的卵虽然在长度上可能略长（约1.3–1.7厘米），但整体体积和直径都小于鸭嘴兽的卵。\\n\\n因此，在所有现存哺乳动物中，**鸭嘴兽产下的是最大的蛋**，前提是“最大”指的是**卵的尺寸（直径）**，并且比较范围**仅限于哺乳动物**，不包括鸟类或爬行动物。\\n\\n---\\n\\n**中文回答：**\\n\\n在现存哺乳动物中，**鸭嘴兽**产的蛋是最大的。它的蛋直径约为11毫米，比另一类卵生哺乳动物——针鼹的蛋更大。虽然针鼹的蛋在长度上可能接近或略长，但其直径和体积都小于鸭嘴兽的蛋。\\n\\n因此，如果“最大”是指**蛋的尺寸（尤其是直径）**，并且比较范围**仅限于哺乳动物**，那么答案是：\\n\\n👉 **鸭嘴兽**（Platypus / *Ornithorhynchus anatinus*）'}"
      ]
     },
     "execution_count": 1,
     "metadata": {},
     "output_type": "execute_result"
    }
   ],
   "source": [
    "from langchain.chains import LLMCheckerChain\n",
    "from langchain_openai import OpenAI\n",
    "\n",
    "import os\n",
    "from langchain_openai import ChatOpenAI\n",
    "from dotenv import load_dotenv\n",
    "\n",
    "\n",
    "load_dotenv()\n",
    "\n",
    "# 使用 通义千问 代替openai\n",
    "llm = ChatOpenAI(\n",
    "    api_key=os.getenv(\"DASHSCOPE_API_KEY\"),\n",
    "    base_url=\"https://dashscope.aliyuncs.com/compatible-mode/v1\",\n",
    "    model=\"qwen-plus\",   # ✅ 用通义千问提供的模型名，比如 qwen-plus / qwen-max / qwen-turbo\n",
    "    temperature=0\n",
    ")\n",
    "\n",
    "text = \"哪种哺乳动物产的蛋最大？\"\n",
    "# verbose=True 可以在运行时输出更详细的信息，方便调试。\n",
    "checker_chain = LLMCheckerChain.from_llm(llm, verbose=True)\n",
    "\n",
    "checker_chain.invoke(text)"
   ]
  },
  {
   "cell_type": "code",
   "execution_count": null,
   "metadata": {},
   "outputs": [],
   "source": []
  }
 ],
 "metadata": {
  "kernelspec": {
   "display_name": "Python 3 (ipykernel)",
   "language": "python",
   "name": "python3"
  },
  "language_info": {
   "codemirror_mode": {
    "name": "ipython",
    "version": 3
   },
   "file_extension": ".py",
   "mimetype": "text/x-python",
   "name": "python",
   "nbconvert_exporter": "python",
   "pygments_lexer": "ipython3",
   "version": "3.12.7"
  }
 },
 "nbformat": 4,
 "nbformat_minor": 4
}
