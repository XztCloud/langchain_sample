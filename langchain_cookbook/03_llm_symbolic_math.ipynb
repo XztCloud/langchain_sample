{
 "cells": [
  {
   "cell_type": "markdown",
   "metadata": {},
   "source": [
    "# LLM Symbolic Math \n",
    "让 LLM 把自然语言的数学问题转成 SymPy 的数值表达式，然后计算。其底层使用了 [SymPy](https://www.sympy.org/en/index.html)."
   ]
  },
  {
   "cell_type": "markdown",
   "metadata": {},
   "source": [
    "## LLMSymbolicMathChain 参数 allow_dangerous_requests\n",
    "- allow_dangerous_requests=False\n",
    "只允许一部分 白名单运算（加减乘除、幂运算、基本函数等）。安全，不会执行任意代码。\n",
    "\n",
    "- allow_dangerous_requests=True\n",
    "允许 LLM 构造任意 SymPy 表达式，可能导致安全风险（比如执行恶意代码）。不推荐在生产环境使用。"
   ]
  },
  {
   "cell_type": "code",
   "execution_count": 12,
   "metadata": {},
   "outputs": [],
   "source": [
    "from langchain_experimental.llm_symbolic_math.base import LLMSymbolicMathChain\n",
    "from langchain_openai import OpenAI\n",
    "\n",
    "import os\n",
    "from langchain_openai import ChatOpenAI\n",
    "from dotenv import load_dotenv\n",
    "\n",
    "\n",
    "load_dotenv()\n",
    "\n",
    "# 使用 通义千问 代替openai\n",
    "llm = ChatOpenAI(\n",
    "    api_key=os.getenv(\"DASHSCOPE_API_KEY\"),\n",
    "    base_url=\"https://dashscope.aliyuncs.com/compatible-mode/v1\",\n",
    "    model=\"qwen-plus\",   # ✅ 用通义千问提供的模型名，比如 qwen-plus / qwen-max / qwen-turbo\n",
    "    temperature=0\n",
    ")\n",
    "llm_symbolic_math = LLMSymbolicMathChain.from_llm(\n",
    "    llm, \n",
    "    allow_dangerous_requests=True\n",
    ")"
   ]
  },
  {
   "cell_type": "markdown",
   "metadata": {},
   "source": [
    "## Integrals and derivates"
   ]
  },
  {
   "cell_type": "code",
   "execution_count": 13,
   "metadata": {},
   "outputs": [
    {
     "data": {
      "text/plain": [
       "{'question': 'What is the derivative of sin(x)*exp(x) with respect to x?',\n",
       " 'answer': 'Answer: exp(x)*sin(x) + exp(x)*cos(x)'}"
      ]
     },
     "execution_count": 13,
     "metadata": {},
     "output_type": "execute_result"
    }
   ],
   "source": [
    "llm_symbolic_math.invoke(\"What is the derivative of sin(x)*exp(x) with respect to x?\")"
   ]
  },
  {
   "cell_type": "code",
   "execution_count": 14,
   "metadata": {},
   "outputs": [
    {
     "data": {
      "text/plain": [
       "{'question': 'What is the integral of exp(x)*sin(x) + exp(x)*cos(x) with respect to x?',\n",
       " 'answer': 'Answer: exp(x)*sin(x)'}"
      ]
     },
     "execution_count": 14,
     "metadata": {},
     "output_type": "execute_result"
    }
   ],
   "source": [
    "llm_symbolic_math.invoke(\n",
    "    \"What is the integral of exp(x)*sin(x) + exp(x)*cos(x) with respect to x?\"\n",
    ")"
   ]
  },
  {
   "cell_type": "markdown",
   "metadata": {},
   "source": [
    "## Solve linear and differential equations"
   ]
  },
  {
   "cell_type": "code",
   "execution_count": 15,
   "metadata": {},
   "outputs": [
    {
     "data": {
      "text/plain": [
       "{'question': 'Solve the differential equation y\" - y = e^t',\n",
       " 'answer': 'Answer: Eq(y(t), C1*exp(-t) + C2*exp(t))'}"
      ]
     },
     "execution_count": 15,
     "metadata": {},
     "output_type": "execute_result"
    }
   ],
   "source": [
    "llm_symbolic_math.invoke('Solve the differential equation y\" - y = e^t')"
   ]
  },
  {
   "cell_type": "code",
   "execution_count": 16,
   "metadata": {},
   "outputs": [
    {
     "data": {
      "text/plain": [
       "{'question': 'What are the solutions to this equation y^3 + 1/3y?',\n",
       " 'answer': 'Answer: {0, -sqrt(3)*I/3, sqrt(3)*I/3}'}"
      ]
     },
     "execution_count": 16,
     "metadata": {},
     "output_type": "execute_result"
    }
   ],
   "source": [
    "llm_symbolic_math.invoke(\"What are the solutions to this equation y^3 + 1/3y?\")"
   ]
  },
  {
   "cell_type": "code",
   "execution_count": 19,
   "metadata": {},
   "outputs": [
    {
     "ename": "ValueError",
     "evalue": "LLMSymbolicMathChain._evaluate(\"\nsolveset((x - (y + 5), y - (z - 3), z - (x * y)), (x, y, z))\n\") raised error: (x - y - 5, y - z + 3, -x*y + z) is not a valid SymPy expression. Please try again with a valid numerical expression",
     "output_type": "error",
     "traceback": [
      "\u001b[31m---------------------------------------------------------------------------\u001b[39m",
      "\u001b[31mValueError\u001b[39m                                Traceback (most recent call last)",
      "\u001b[31mValueError\u001b[39m: Error from parse_expr with transformed code: \"solveset ((Symbol ('x' )-(Symbol ('y' )+Integer (5 )),Symbol ('y' )-(Symbol ('z' )-Integer (3 )),Symbol ('z' )-(Symbol ('x' )*Symbol ('y' ))),(Symbol ('x' ),Symbol ('y' ),Symbol ('z' )))\"",
      "\nThe above exception was the direct cause of the following exception:\n",
      "\u001b[31mValueError\u001b[39m                                Traceback (most recent call last)",
      "\u001b[36mFile \u001b[39m\u001b[32mD:\\Code\\full-stack-fastapi-template\\backend\\venv\\Lib\\site-packages\\langchain_experimental\\llm_symbolic_math\\base.py:109\u001b[39m, in \u001b[36mLLMSymbolicMathChain._evaluate_expression\u001b[39m\u001b[34m(self, expression)\u001b[39m\n\u001b[32m    108\u001b[39m \u001b[38;5;28;01mif\u001b[39;00m \u001b[38;5;28mself\u001b[39m.allow_dangerous_requests:\n\u001b[32m--> \u001b[39m\u001b[32m109\u001b[39m     output = \u001b[38;5;28mstr\u001b[39m(\u001b[43msympy\u001b[49m\u001b[43m.\u001b[49m\u001b[43msympify\u001b[49m\u001b[43m(\u001b[49m\u001b[43mexpression\u001b[49m\u001b[43m,\u001b[49m\u001b[43m \u001b[49m\u001b[43mevaluate\u001b[49m\u001b[43m=\u001b[49m\u001b[38;5;28;43;01mTrue\u001b[39;49;00m\u001b[43m)\u001b[49m)\n\u001b[32m    110\u001b[39m \u001b[38;5;28;01melse\u001b[39;00m:\n",
      "\u001b[36mFile \u001b[39m\u001b[32mD:\\Code\\full-stack-fastapi-template\\backend\\venv\\Lib\\site-packages\\sympy\\core\\sympify.py:507\u001b[39m, in \u001b[36msympify\u001b[39m\u001b[34m(a, locals, convert_xor, strict, rational, evaluate)\u001b[39m\n\u001b[32m    506\u001b[39m     a = a.replace(\u001b[33m'\u001b[39m\u001b[38;5;130;01m\\n\u001b[39;00m\u001b[33m'\u001b[39m, \u001b[33m'\u001b[39m\u001b[33m'\u001b[39m)\n\u001b[32m--> \u001b[39m\u001b[32m507\u001b[39m     expr = \u001b[43mparse_expr\u001b[49m\u001b[43m(\u001b[49m\u001b[43ma\u001b[49m\u001b[43m,\u001b[49m\u001b[43m \u001b[49m\u001b[43mlocal_dict\u001b[49m\u001b[43m=\u001b[49m\u001b[38;5;28;43mlocals\u001b[39;49m\u001b[43m,\u001b[49m\u001b[43m \u001b[49m\u001b[43mtransformations\u001b[49m\u001b[43m=\u001b[49m\u001b[43mtransformations\u001b[49m\u001b[43m,\u001b[49m\u001b[43m \u001b[49m\u001b[43mevaluate\u001b[49m\u001b[43m=\u001b[49m\u001b[43mevaluate\u001b[49m\u001b[43m)\u001b[49m\n\u001b[32m    508\u001b[39m \u001b[38;5;28;01mexcept\u001b[39;00m (TokenError, \u001b[38;5;167;01mSyntaxError\u001b[39;00m) \u001b[38;5;28;01mas\u001b[39;00m exc:\n",
      "\u001b[36mFile \u001b[39m\u001b[32mD:\\Code\\full-stack-fastapi-template\\backend\\venv\\Lib\\site-packages\\sympy\\parsing\\sympy_parser.py:1090\u001b[39m, in \u001b[36mparse_expr\u001b[39m\u001b[34m(s, local_dict, transformations, global_dict, evaluate)\u001b[39m\n\u001b[32m   1089\u001b[39m     local_dict[i] = null\n\u001b[32m-> \u001b[39m\u001b[32m1090\u001b[39m \u001b[38;5;28;01mraise\u001b[39;00m e \u001b[38;5;28;01mfrom\u001b[39;00m\u001b[38;5;250m \u001b[39m\u001b[34;01mValueError\u001b[39;00m(\u001b[33mf\u001b[39m\u001b[33m\"\u001b[39m\u001b[33mError from parse_expr with transformed code: \u001b[39m\u001b[38;5;132;01m{\u001b[39;00mcode\u001b[38;5;132;01m!r}\u001b[39;00m\u001b[33m\"\u001b[39m)\n",
      "\u001b[36mFile \u001b[39m\u001b[32mD:\\Code\\full-stack-fastapi-template\\backend\\venv\\Lib\\site-packages\\sympy\\parsing\\sympy_parser.py:1081\u001b[39m, in \u001b[36mparse_expr\u001b[39m\u001b[34m(s, local_dict, transformations, global_dict, evaluate)\u001b[39m\n\u001b[32m   1080\u001b[39m \u001b[38;5;28;01mtry\u001b[39;00m:\n\u001b[32m-> \u001b[39m\u001b[32m1081\u001b[39m     rv = \u001b[43meval_expr\u001b[49m\u001b[43m(\u001b[49m\u001b[43mcode\u001b[49m\u001b[43m,\u001b[49m\u001b[43m \u001b[49m\u001b[43mlocal_dict\u001b[49m\u001b[43m,\u001b[49m\u001b[43m \u001b[49m\u001b[43mglobal_dict\u001b[49m\u001b[43m)\u001b[49m\n\u001b[32m   1082\u001b[39m     \u001b[38;5;66;03m# restore neutral definitions for names\u001b[39;00m\n",
      "\u001b[36mFile \u001b[39m\u001b[32mD:\\Code\\full-stack-fastapi-template\\backend\\venv\\Lib\\site-packages\\sympy\\parsing\\sympy_parser.py:905\u001b[39m, in \u001b[36meval_expr\u001b[39m\u001b[34m(code, local_dict, global_dict)\u001b[39m\n\u001b[32m    900\u001b[39m \u001b[38;5;250m\u001b[39m\u001b[33;03m\"\"\"\u001b[39;00m\n\u001b[32m    901\u001b[39m \u001b[33;03mEvaluate Python code generated by ``stringify_expr``.\u001b[39;00m\n\u001b[32m    902\u001b[39m \n\u001b[32m    903\u001b[39m \u001b[33;03mGenerally, ``parse_expr`` should be used.\u001b[39;00m\n\u001b[32m    904\u001b[39m \u001b[33;03m\"\"\"\u001b[39;00m\n\u001b[32m--> \u001b[39m\u001b[32m905\u001b[39m expr = \u001b[38;5;28;43meval\u001b[39;49m\u001b[43m(\u001b[49m\n\u001b[32m    906\u001b[39m \u001b[43m    \u001b[49m\u001b[43mcode\u001b[49m\u001b[43m,\u001b[49m\u001b[43m \u001b[49m\u001b[43mglobal_dict\u001b[49m\u001b[43m,\u001b[49m\u001b[43m \u001b[49m\u001b[43mlocal_dict\u001b[49m\u001b[43m)\u001b[49m  \u001b[38;5;66;03m# take local objects in preference\u001b[39;00m\n\u001b[32m    907\u001b[39m \u001b[38;5;28;01mreturn\u001b[39;00m expr\n",
      "\u001b[36mFile \u001b[39m\u001b[32m<string>:1\u001b[39m\n",
      "\u001b[36mFile \u001b[39m\u001b[32mD:\\Code\\full-stack-fastapi-template\\backend\\venv\\Lib\\site-packages\\sympy\\solvers\\solveset.py:2448\u001b[39m, in \u001b[36msolveset\u001b[39m\u001b[34m(f, symbol, domain)\u001b[39m\n\u001b[32m   2447\u001b[39m \u001b[38;5;28;01mif\u001b[39;00m \u001b[38;5;129;01mnot\u001b[39;00m \u001b[38;5;28misinstance\u001b[39m(f, (Expr, Relational, Number)):\n\u001b[32m-> \u001b[39m\u001b[32m2448\u001b[39m     \u001b[38;5;28;01mraise\u001b[39;00m \u001b[38;5;167;01mValueError\u001b[39;00m(\u001b[33m\"\u001b[39m\u001b[38;5;132;01m%s\u001b[39;00m\u001b[33m is not a valid SymPy expression\u001b[39m\u001b[33m\"\u001b[39m % f)\n\u001b[32m   2450\u001b[39m \u001b[38;5;28;01mif\u001b[39;00m \u001b[38;5;129;01mnot\u001b[39;00m \u001b[38;5;28misinstance\u001b[39m(symbol, (Expr, Relational)) \u001b[38;5;129;01mand\u001b[39;00m  symbol \u001b[38;5;129;01mis\u001b[39;00m \u001b[38;5;129;01mnot\u001b[39;00m \u001b[38;5;28;01mNone\u001b[39;00m:\n",
      "\u001b[31mValueError\u001b[39m: (x - y - 5, y - z + 3, -x*y + z) is not a valid SymPy expression",
      "\nDuring handling of the above exception, another exception occurred:\n",
      "\u001b[31mValueError\u001b[39m                                Traceback (most recent call last)",
      "\u001b[36mCell\u001b[39m\u001b[36m \u001b[39m\u001b[32mIn[19]\u001b[39m\u001b[32m, line 1\u001b[39m\n\u001b[32m----> \u001b[39m\u001b[32m1\u001b[39m \u001b[43mllm_symbolic_math\u001b[49m\u001b[43m.\u001b[49m\u001b[43minvoke\u001b[49m\u001b[43m(\u001b[49m\u001b[33;43m\"\u001b[39;49m\u001b[33;43mx = y + 5, y = z - 3, z = x * y. Solve for x, y, z\u001b[39;49m\u001b[33;43m\"\u001b[39;49m\u001b[43m)\u001b[49m\n",
      "\u001b[36mFile \u001b[39m\u001b[32mD:\\Code\\full-stack-fastapi-template\\backend\\venv\\Lib\\site-packages\\langchain\\chains\\base.py:165\u001b[39m, in \u001b[36mChain.invoke\u001b[39m\u001b[34m(self, input, config, **kwargs)\u001b[39m\n\u001b[32m    162\u001b[39m \u001b[38;5;28;01mtry\u001b[39;00m:\n\u001b[32m    163\u001b[39m     \u001b[38;5;28mself\u001b[39m._validate_inputs(inputs)\n\u001b[32m    164\u001b[39m     outputs = (\n\u001b[32m--> \u001b[39m\u001b[32m165\u001b[39m         \u001b[38;5;28;43mself\u001b[39;49m\u001b[43m.\u001b[49m\u001b[43m_call\u001b[49m\u001b[43m(\u001b[49m\u001b[43minputs\u001b[49m\u001b[43m,\u001b[49m\u001b[43m \u001b[49m\u001b[43mrun_manager\u001b[49m\u001b[43m=\u001b[49m\u001b[43mrun_manager\u001b[49m\u001b[43m)\u001b[49m\n\u001b[32m    166\u001b[39m         \u001b[38;5;28;01mif\u001b[39;00m new_arg_supported\n\u001b[32m    167\u001b[39m         \u001b[38;5;28;01melse\u001b[39;00m \u001b[38;5;28mself\u001b[39m._call(inputs)\n\u001b[32m    168\u001b[39m     )\n\u001b[32m    170\u001b[39m     final_outputs: \u001b[38;5;28mdict\u001b[39m[\u001b[38;5;28mstr\u001b[39m, Any] = \u001b[38;5;28mself\u001b[39m.prep_outputs(\n\u001b[32m    171\u001b[39m         inputs,\n\u001b[32m    172\u001b[39m         outputs,\n\u001b[32m    173\u001b[39m         return_only_outputs,\n\u001b[32m    174\u001b[39m     )\n\u001b[32m    175\u001b[39m \u001b[38;5;28;01mexcept\u001b[39;00m \u001b[38;5;167;01mBaseException\u001b[39;00m \u001b[38;5;28;01mas\u001b[39;00m e:\n",
      "\u001b[36mFile \u001b[39m\u001b[32mD:\\Code\\full-stack-fastapi-template\\backend\\venv\\Lib\\site-packages\\langchain_experimental\\llm_symbolic_math\\base.py:222\u001b[39m, in \u001b[36mLLMSymbolicMathChain._call\u001b[39m\u001b[34m(self, inputs, run_manager)\u001b[39m\n\u001b[32m    216\u001b[39m _run_manager.on_text(inputs[\u001b[38;5;28mself\u001b[39m.input_key])\n\u001b[32m    217\u001b[39m llm_output = \u001b[38;5;28mself\u001b[39m.llm_chain.predict(\n\u001b[32m    218\u001b[39m     question=inputs[\u001b[38;5;28mself\u001b[39m.input_key],\n\u001b[32m    219\u001b[39m     stop=[\u001b[33m\"\u001b[39m\u001b[33m```output\u001b[39m\u001b[33m\"\u001b[39m],\n\u001b[32m    220\u001b[39m     callbacks=_run_manager.get_child(),\n\u001b[32m    221\u001b[39m )\n\u001b[32m--> \u001b[39m\u001b[32m222\u001b[39m \u001b[38;5;28;01mreturn\u001b[39;00m \u001b[38;5;28;43mself\u001b[39;49m\u001b[43m.\u001b[49m\u001b[43m_process_llm_result\u001b[49m\u001b[43m(\u001b[49m\u001b[43mllm_output\u001b[49m\u001b[43m,\u001b[49m\u001b[43m \u001b[49m\u001b[43m_run_manager\u001b[49m\u001b[43m)\u001b[49m\n",
      "\u001b[36mFile \u001b[39m\u001b[32mD:\\Code\\full-stack-fastapi-template\\backend\\venv\\Lib\\site-packages\\langchain_experimental\\llm_symbolic_math\\base.py:176\u001b[39m, in \u001b[36mLLMSymbolicMathChain._process_llm_result\u001b[39m\u001b[34m(self, llm_output, run_manager)\u001b[39m\n\u001b[32m    174\u001b[39m \u001b[38;5;28;01mif\u001b[39;00m text_match:\n\u001b[32m    175\u001b[39m     expression = text_match.group(\u001b[32m1\u001b[39m)\n\u001b[32m--> \u001b[39m\u001b[32m176\u001b[39m     output = \u001b[38;5;28;43mself\u001b[39;49m\u001b[43m.\u001b[49m\u001b[43m_evaluate_expression\u001b[49m\u001b[43m(\u001b[49m\u001b[43mexpression\u001b[49m\u001b[43m)\u001b[49m\n\u001b[32m    177\u001b[39m     run_manager.on_text(\u001b[33m\"\u001b[39m\u001b[38;5;130;01m\\n\u001b[39;00m\u001b[33mAnswer: \u001b[39m\u001b[33m\"\u001b[39m, verbose=\u001b[38;5;28mself\u001b[39m.verbose)\n\u001b[32m    178\u001b[39m     run_manager.on_text(output, color=\u001b[33m\"\u001b[39m\u001b[33myellow\u001b[39m\u001b[33m\"\u001b[39m, verbose=\u001b[38;5;28mself\u001b[39m.verbose)\n",
      "\u001b[36mFile \u001b[39m\u001b[32mD:\\Code\\full-stack-fastapi-template\\backend\\venv\\Lib\\site-packages\\langchain_experimental\\llm_symbolic_math\\base.py:160\u001b[39m, in \u001b[36mLLMSymbolicMathChain._evaluate_expression\u001b[39m\u001b[34m(self, expression)\u001b[39m\n\u001b[32m    154\u001b[39m         output = \u001b[38;5;28mstr\u001b[39m(\n\u001b[32m    155\u001b[39m             sympy.parse_expr(\n\u001b[32m    156\u001b[39m                 expression, local_dict=allowed_symbols, evaluate=\u001b[38;5;28;01mTrue\u001b[39;00m\n\u001b[32m    157\u001b[39m             )\n\u001b[32m    158\u001b[39m         )\n\u001b[32m    159\u001b[39m \u001b[38;5;28;01mexcept\u001b[39;00m \u001b[38;5;167;01mException\u001b[39;00m \u001b[38;5;28;01mas\u001b[39;00m e:\n\u001b[32m--> \u001b[39m\u001b[32m160\u001b[39m     \u001b[38;5;28;01mraise\u001b[39;00m \u001b[38;5;167;01mValueError\u001b[39;00m(\n\u001b[32m    161\u001b[39m         \u001b[33mf\u001b[39m\u001b[33m'\u001b[39m\u001b[33mLLMSymbolicMathChain._evaluate(\u001b[39m\u001b[33m\"\u001b[39m\u001b[38;5;132;01m{\u001b[39;00mexpression\u001b[38;5;132;01m}\u001b[39;00m\u001b[33m\"\u001b[39m\u001b[33m) raised error: \u001b[39m\u001b[38;5;132;01m{\u001b[39;00me\u001b[38;5;132;01m}\u001b[39;00m\u001b[33m.\u001b[39m\u001b[33m'\u001b[39m\n\u001b[32m    162\u001b[39m         \u001b[33m\"\u001b[39m\u001b[33m Please try again with a valid numerical expression\u001b[39m\u001b[33m\"\u001b[39m\n\u001b[32m    163\u001b[39m     )\n\u001b[32m    165\u001b[39m \u001b[38;5;66;03m# Remove any leading and trailing brackets from the output\u001b[39;00m\n\u001b[32m    166\u001b[39m \u001b[38;5;28;01mreturn\u001b[39;00m re.sub(\u001b[33mr\u001b[39m\u001b[33m\"\u001b[39m\u001b[33m^\u001b[39m\u001b[33m\\\u001b[39m\u001b[33m[|\u001b[39m\u001b[33m\\\u001b[39m\u001b[33m]$\u001b[39m\u001b[33m\"\u001b[39m, \u001b[33m\"\u001b[39m\u001b[33m\"\u001b[39m, output)\n",
      "\u001b[31mValueError\u001b[39m: LLMSymbolicMathChain._evaluate(\"\nsolveset((x - (y + 5), y - (z - 3), z - (x * y)), (x, y, z))\n\") raised error: (x - y - 5, y - z + 3, -x*y + z) is not a valid SymPy expression. Please try again with a valid numerical expression"
     ]
    }
   ],
   "source": [
    "llm_symbolic_math.invoke(\"x = y + 5, y = z - 3, z = x * y. Solve for x, y, z\")"
   ]
  },
  {
   "cell_type": "code",
   "execution_count": null,
   "metadata": {},
   "outputs": [],
   "source": []
  }
 ],
 "metadata": {
  "kernelspec": {
   "display_name": "Python 3 (ipykernel)",
   "language": "python",
   "name": "python3"
  },
  "language_info": {
   "codemirror_mode": {
    "name": "ipython",
    "version": 3
   },
   "file_extension": ".py",
   "mimetype": "text/x-python",
   "name": "python",
   "nbconvert_exporter": "python",
   "pygments_lexer": "ipython3",
   "version": "3.12.7"
  }
 },
 "nbformat": 4,
 "nbformat_minor": 4
}
