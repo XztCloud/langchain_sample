{
 "cells": [
  {
   "attachments": {},
   "cell_type": "markdown",
   "id": "9e9b7651",
   "metadata": {},
   "source": [
    "# How to use a SmartLLMChain\n",
    "\n",
    "A SmartLLMChain is a form of self-critique chain that can help you if have particularly complex questions to answer. Instead of doing a single LLM pass, it instead performs these 3 steps:\n",
    "1. Ideation: Pass the user prompt n times through the LLM to get n output proposals (called \"ideas\"), where n is a parameter you can set \n",
    "2. Critique: The LLM critiques all ideas to find possible flaws and picks the best one \n",
    "3. Resolve: The LLM tries to improve upon the best idea (as chosen in the critique step) and outputs it. This is then the final output.\n",
    "\n",
    "SmartLLMChains are based on the SmartGPT workflow proposed in https://youtu.be/wVzuvf9D9BU.\n",
    "\n",
    "Note that SmartLLMChains\n",
    "- use more LLM passes (ie n+2 instead of just 1)\n",
    "- only work then the underlying LLM has the capability for reflection, which smaller models often don't\n",
    "- only work with underlying models that return exactly 1 output, not multiple\n",
    "\n",
    "This notebook demonstrates how to use a SmartLLMChain."
   ]
  },
  {
   "attachments": {},
   "cell_type": "markdown",
   "id": "714dede0",
   "metadata": {},
   "source": [
    "##### Same LLM for all steps"
   ]
  },
  {
   "cell_type": "code",
   "execution_count": 11,
   "id": "10e5ece6",
   "metadata": {},
   "outputs": [],
   "source": [
    "from langchain.prompts import PromptTemplate\n",
    "from langchain_experimental.smart_llm import SmartLLMChain\n",
    "\n",
    "import os\n",
    "from langchain_openai import ChatOpenAI\n",
    "from dotenv import load_dotenv\n",
    "\n",
    "load_dotenv()\n",
    "# 使用 通义千问 代替openai\n",
    "llm = ChatOpenAI(\n",
    "    api_key=os.getenv(\"DASHSCOPE_API_KEY\"),\n",
    "    base_url=\"https://dashscope.aliyuncs.com/compatible-mode/v1\",\n",
    "    model=\"qwen-plus\",   # ✅ 用通义千问提供的模型名，比如 qwen-plus / qwen-max / qwen-turbo\n",
    "    temperature=0\n",
    ")\n"
   ]
  },
  {
   "attachments": {},
   "cell_type": "markdown",
   "id": "1780da51",
   "metadata": {},
   "source": [
    "As example question, we will use \"I have a 12 liter jug and a 6 liter jug. I want to measure 6 liters. How do I do it?\". This is an example from the original SmartGPT video (https://youtu.be/wVzuvf9D9BU?t=384). While this seems like a very easy question, LLMs struggle do these kinds of questions that involve numbers and physical reasoning.\n",
    "\n",
    "As we will see, all 3 initial ideas are completely wrong - even though we're using GPT4! Only when using self-reflection do we get a correct answer. "
   ]
  },
  {
   "cell_type": "code",
   "execution_count": 12,
   "id": "054af6b1",
   "metadata": {},
   "outputs": [],
   "source": [
    "hard_question = \"我有一个12升的壶和一个6升的壶。我想量取6升。该怎么做？\""
   ]
  },
  {
   "attachments": {},
   "cell_type": "markdown",
   "id": "8049cecd",
   "metadata": {},
   "source": [
    "So, we first create an LLM and prompt template"
   ]
  },
  {
   "cell_type": "code",
   "execution_count": 4,
   "id": "811ea8e1",
   "metadata": {},
   "outputs": [],
   "source": [
    "prompt = PromptTemplate.from_template(hard_question)"
   ]
  },
  {
   "attachments": {},
   "cell_type": "markdown",
   "id": "50b602e4",
   "metadata": {},
   "source": [
    "Now we can create a SmartLLMChain"
   ]
  },
  {
   "cell_type": "code",
   "execution_count": 13,
   "id": "8cd49199",
   "metadata": {},
   "outputs": [],
   "source": [
    "chain = SmartLLMChain(llm=llm, prompt=prompt, n_ideas=3, verbose=False)"
   ]
  },
  {
   "attachments": {},
   "cell_type": "markdown",
   "id": "6a72f276",
   "metadata": {},
   "source": [
    "Now we can use the SmartLLM as a drop-in replacement for our LLM. E.g.:"
   ]
  },
  {
   "cell_type": "code",
   "execution_count": 14,
   "id": "074e5e75",
   "metadata": {},
   "outputs": [
    {
     "data": {
      "text/plain": [
       "{'resolution': \"Certainly! Let's work step by step to determine which of the three answer options the researcher would consider the **best**, then **improve it**, and finally present the **final improved answer in full**.\\n\\n---\\n\\n### Step 1: Determine the Best Answer\\n\\nWe analyze each of the three answer options based on clarity, structure, and efficiency:\\n\\n| Answer | Clarity | Structure | Efficiency | Notes |\\n|--------|---------|-----------|------------|-------|\\n| Idea 1 | ✅ Good | ✅ Logical flow, clear steps | ✅ Efficient | First and clear explanation |\\n| Idea 2 | ✅ Good | ✅ Well-structured | ❌ Slightly wordy | Same logic, more verbose |\\n| Idea 3 | ✅ Good | ✅ Clear steps | ❌ Repetitive | Same as the others |\\n\\n**Conclusion**: All are logically sound, but **Idea 1** is the most **concise**, **clear**, and **logically structured**. It introduces the problem, labels the jugs, and walks through the steps in a straightforward way.\\n\\n---\\n\\n### Step 2: Improve the Best Answer\\n\\nWe will improve **Idea 1** by:\\n\\n- Making the language slightly more precise.\\n- Adding a small visual representation of each step (optional but helpful).\\n- Ensuring the conclusion is emphasized clearly.\\n\\n---\\n\\n### Step 3: Final Improved Answer (Print in Full)\\n\\n✅ **Improved Answer:**\\n\\nYou have two jugs:\\n\\n- A **12-liter jug** (let's call it Jug A)  \\n- A **6-liter jug** (let's call it Jug B)\\n\\nYour goal is to measure **exactly 6 liters** of water.\\n\\nHere’s how you do it:\\n\\n1. **Fill Jug A (the 12-liter jug) completely.**  \\n   - Jug A = 12 liters  \\n   - Jug B = 0 liters\\n\\n2. **Pour water from Jug A into Jug B until Jug B is full.**  \\n   - Jug A = 6 liters (since Jug B can only hold 6 liters)  \\n   - Jug B = 6 liters\\n\\nAt this point, you have **exactly 6 liters** remaining in **Jug A**, which is precisely what you wanted.\\n\\n---\\n\\n🎯 **Conclusion:**  \\nBy filling the 12-liter jug and transferring water to the 6-liter jug until it's full, the remaining water in the 12-liter jug is **exactly 6 liters** — mission accomplished!\\n\\nThis method is simple, efficient, and requires only two steps.\\n\\n✅ **Done!**\"}"
      ]
     },
     "execution_count": 14,
     "metadata": {},
     "output_type": "execute_result"
    }
   ],
   "source": [
    "chain.invoke({})"
   ]
  },
  {
   "attachments": {},
   "cell_type": "markdown",
   "id": "bbfebea1",
   "metadata": {},
   "source": [
    "##### Different LLM for different steps"
   ]
  },
  {
   "attachments": {},
   "cell_type": "markdown",
   "id": "5be6ec08",
   "metadata": {},
   "source": [
    "You can also use different LLMs for the different steps by passing `ideation_llm`, `critique_llm` and `resolve_llm`. You might want to do this to use a more creative (i.e., high-temperature) model for ideation and a more strict (i.e., low-temperature) model for critique and resolution."
   ]
  },
  {
   "cell_type": "code",
   "execution_count": 15,
   "id": "9c33fa19",
   "metadata": {},
   "outputs": [],
   "source": [
    "chain = SmartLLMChain(\n",
    "    ideation_llm=ChatOpenAI(\n",
    "        api_key=os.getenv(\"DASHSCOPE_API_KEY\"),\n",
    "        base_url=\"https://dashscope.aliyuncs.com/compatible-mode/v1\",\n",
    "        model=\"qwen-plus\",   # ✅ 用通义千问提供的模型名，比如 qwen-plus / qwen-max / qwen-turbo\n",
    "        temperature=0.7\n",
    "    ),\n",
    "    llm=ChatOpenAI(\n",
    "        api_key=os.getenv(\"DEEPSEEK_API_KEY\"),\n",
    "        base_url=\"https://api.deepseek.com\",\n",
    "        model=\"deepseek-chat\",\n",
    "        temperature=0,\n",
    "    ),  # will be used for critique and resolution as no specific llms are given\n",
    "    prompt=prompt,\n",
    "    n_ideas=3,\n",
    "    verbose=True,\n",
    ")"
   ]
  },
  {
   "cell_type": "code",
   "execution_count": 16,
   "id": "886c1cc1",
   "metadata": {},
   "outputs": [
    {
     "name": "stdout",
     "output_type": "stream",
     "text": [
      "\n",
      "\n",
      "\u001b[1m> Entering new SmartLLMChain chain...\u001b[0m\n",
      "Prompt after formatting:\n",
      "\u001b[32;1m\u001b[1;3m我有一个12升的壶和一个6升的壶。我想量取6升。该怎么做？\u001b[0m\n",
      "Idea 1:\n",
      "\u001b[36;1m\u001b[1;3m当然可以！我们一步一步来解决这个问题。\n",
      "\n",
      "---\n",
      "\n",
      "### 问题重述：\n",
      "你有一个 **12升的壶** 和一个 **6升的壶**，你的目标是**量出6升水**。\n",
      "\n",
      "---\n",
      "\n",
      "### 解法步骤：\n",
      "\n",
      "1. **把12升的壶装满水**。  \n",
      "   - 现在：12升壶有 **12升**，6升壶有 **0升**\n",
      "\n",
      "2. **用12升壶往6升壶倒水，直到6升壶满**。  \n",
      "   - 现在：12升壶剩下 **6升**，6升壶有 **6升**\n",
      "\n",
      "---\n",
      "\n",
      "### 结果：\n",
      "现在，**12升的壶中正好剩下6升水**，任务完成！\n",
      "\n",
      "---\n",
      "\n",
      "### 总结：\n",
      "你通过把12升壶的水倒入6升壶，得到了**正好6升**留在大壶中。\n",
      "\n",
      "✅ **成功量出6升水！**\u001b[0m\n",
      "Idea 2:\n",
      "\u001b[36;1m\u001b[1;3m好的，我们来一步一步地解决这个问题：\n",
      "\n",
      "---\n",
      "\n",
      "### **问题：**\n",
      "你有一个 **12升的壶** 和一个 **6升的壶**，你想量出 **6升水**。该怎么做？\n",
      "\n",
      "---\n",
      "\n",
      "### **目标：**\n",
      "利用这两个壶，最终在其中一个壶中**准确量出6升水**。\n",
      "\n",
      "---\n",
      "\n",
      "### **已知条件：**\n",
      "- 12升壶是空的。\n",
      "- 6升壶也是空的。\n",
      "- 你可以**无限量地取水**（比如从水龙头或水井取水）。\n",
      "- 你可以**倒空壶**或将水从一个壶倒入另一个壶。\n",
      "\n",
      "---\n",
      "\n",
      "### **解决步骤：**\n",
      "\n",
      "我们来一步步操作：\n",
      "\n",
      "#### 步骤 1：\n",
      "将 **6升壶装满水**。\n",
      "\n",
      "- 6升壶：6升  \n",
      "- 12升壶：0升\n",
      "\n",
      "#### 步骤 2：\n",
      "将 **6升壶的水倒入12升壶**。\n",
      "\n",
      "- 6升壶：0升  \n",
      "- 12升壶：6升 ✅\n",
      "\n",
      "---\n",
      "\n",
      "### **结果：**\n",
      "现在 **12升壶中有6升水**，你已经成功量出了6升水！\n",
      "\n",
      "---\n",
      "\n",
      "### ✅ 答案总结：\n",
      "1. 把6升壶装满水。\n",
      "2. 把6升壶的水倒入12升壶。\n",
      "3. 现在12升壶中正好有6升水。\n",
      "\n",
      "---\n",
      "\n",
      "如果你有其他目标（比如量出其他升数），也可以继续用类似的方法一步步推理。需要我帮你吗？😊\u001b[0m\n",
      "Idea 3:\n",
      "\u001b[36;1m\u001b[1;3m当然！这是一个经典的水壶问题。我们一步一步来解决这个问题。\n",
      "\n",
      "---\n",
      "\n",
      "### 已知：\n",
      "- 一个 **12升** 的壶（我们叫它 A）\n",
      "- 一个 **6升** 的壶（我们叫它 B）\n",
      "- 目标：**量出恰好6升水**\n",
      "\n",
      "---\n",
      "\n",
      "### 步骤如下：\n",
      "\n",
      "1. **把12升壶（A）装满水**  \n",
      "   - A = 12升，B = 0升\n",
      "\n",
      "2. **把A的水倒入B，直到B满**  \n",
      "   - B 现在有6升，A 剩下6升  \n",
      "   - A = 6升，B = 6升\n",
      "\n",
      "3. **把B的水倒掉**  \n",
      "   - A = 6升，B = 0升\n",
      "\n",
      "4. **把A中剩下的6升水倒入B**  \n",
      "   - A = 0升，B = 6升\n",
      "\n",
      "---\n",
      "\n",
      "### 结果：\n",
      "现在，**6升的壶（B）中正好有6升水**，任务完成 ✅\n",
      "\n",
      "---\n",
      "\n",
      "### 总结：\n",
      "你通过倒水的过程，巧妙地利用了两个壶的容量，最终在6升壶中得到了准确的6升水。\n",
      "\n",
      "如果你还有其他问题或想量出不同的水量，也可以继续问我！\u001b[0m\n",
      "Critique:\n",
      "\u001b[33;1m\u001b[1;3mLet's analyze each of the three response options step by step to identify flaws and faulty logic:\n",
      "\n",
      "---\n",
      "\n",
      "### **Idea 1 Analysis:**\n",
      "**Proposed Solution:**\n",
      "1. Fill the 12L jug.\n",
      "2. Pour from the 12L jug into the 6L jug until the 6L jug is full.\n",
      "3. Result: 12L jug has 6L left.\n",
      "\n",
      "**Flaws and Faulty Logic:**\n",
      "- The solution is **correct** and efficient. There are no flaws in this approach.\n",
      "- It directly achieves the goal (having 6L in the 12L jug) in minimal steps.\n",
      "- However, the solution does not consider that the user might want the 6L in the smaller jug (but the question only says \"量取6升\" – \"measure out 6L\", without specifying which jug). So it is valid.\n",
      "\n",
      "**Verdict:** ✅ Flawless.\n",
      "\n",
      "---\n",
      "\n",
      "### **Idea 2 Analysis:**\n",
      "**Proposed Solution:**\n",
      "1. Fill the 6L jug.\n",
      "2. Pour the 6L jug into the 12L jug.\n",
      "3. Result: 12L jug has 6L.\n",
      "\n",
      "**Flaws and Faulty Logic:**\n",
      "- This solution is also **correct** and efficient.\n",
      "- It achieves the goal (6L in the 12L jug) in even fewer steps than Idea 1.\n",
      "- Again, it does not specify which jug should hold the 6L, but it is valid.\n",
      "\n",
      "**Verdict:** ✅ Flawless.\n",
      "\n",
      "---\n",
      "\n",
      "### **Idea 3 Analysis:**\n",
      "**Proposed Solution:**\n",
      "1. Fill the 12L jug (A=12, B=0).\n",
      "2. Pour from A into B until B is full (A=6, B=6).\n",
      "3. Empty B (A=6, B=0).\n",
      "4. Pour from A into B (A=0, B=6).\n",
      "\n",
      "**Flaws and Faulty Logic:**\n",
      "- The solution is **correct** but **unnecessarily complicated**.\n",
      "- Steps 3 and 4 are redundant: after step 2, the 12L jug already has 6L. There is no need to empty the 6L jug and transfer the water.\n",
      "- The solution wastes water and effort by adding extra steps without benefit.\n",
      "- It implies that the 6L must be in the smaller jug (which is not required by the question), but even if that were the goal, step 2 already gives 6L in both jugs. So step 3 (emptying B) is wasteful.\n",
      "\n",
      "**Verdict:** ❌ Not flawed in logic (it works), but flawed in efficiency and unnecessary complexity.\n",
      "\n",
      "---\n",
      "\n",
      "### **Overall Comparison:**\n",
      "- **Idea 1 and Idea 2** are both optimal and correct.\n",
      "- **Idea 3** is correct but inefficient. It introduces redundant steps (emptying and repouring) when the goal is already achieved earlier.\n",
      "\n",
      "### **Why Idea 3 is flawed:**\n",
      "- It fails to recognize that the problem is already solved at step 2 (A has 6L).\n",
      "- It assumes without reason that the 6L must be in the 6L jug (which is not specified).\n",
      "- It violates the principle of minimal action (unnecessary water waste and steps).\n",
      "\n",
      "---\n",
      "\n",
      "### **Final List of Flaws:**\n",
      "- **Idea 1:** No flaws.\n",
      "- **Idea 2:** No flaws.\n",
      "- **Idea 3:**\n",
      "  1. Unnecessary steps (steps 3 and 4 are redundant).\n",
      "  2. Wastes water (empties a full 6L jug for no reason).\n",
      "  3. Fails to recognize the solution is already achieved at step 2.\n",
      "  4. Assumes without justification that the 6L must be in the 6L jug.\n",
      "\n",
      "---\n",
      "\n",
      "### **Conclusion:**\n",
      "While all three methods eventually yield 6L, Idea 3 is inefficient and based on an unnecessary assumption. Ideas 1 and 2 are superior and logically sound.\u001b[0m\n",
      "Resolution:\n",
      "\u001b[32;1m\u001b[1;3m首先，将12升的壶装满水。  \n",
      "然后，将12升壶中的水倒入6升壶，直到6升壶满。  \n",
      "此时，12升壶中剩下6升水，任务完成。\u001b[0m\n",
      "\n",
      "\u001b[1m> Finished chain.\u001b[0m\n"
     ]
    },
    {
     "data": {
      "text/plain": [
       "{'resolution': '首先，将12升的壶装满水。  \\n然后，将12升壶中的水倒入6升壶，直到6升壶满。  \\n此时，12升壶中剩下6升水，任务完成。'}"
      ]
     },
     "execution_count": 16,
     "metadata": {},
     "output_type": "execute_result"
    }
   ],
   "source": [
    "chain.invoke({})"
   ]
  },
  {
   "cell_type": "code",
   "execution_count": null,
   "id": "35b17498-e032-4887-b4e0-4d8e03831f20",
   "metadata": {},
   "outputs": [],
   "source": []
  }
 ],
 "metadata": {
  "kernelspec": {
   "display_name": "Python 3 (ipykernel)",
   "language": "python",
   "name": "python3"
  },
  "language_info": {
   "codemirror_mode": {
    "name": "ipython",
    "version": 3
   },
   "file_extension": ".py",
   "mimetype": "text/x-python",
   "name": "python",
   "nbconvert_exporter": "python",
   "pygments_lexer": "ipython3",
   "version": "3.12.7"
  }
 },
 "nbformat": 4,
 "nbformat_minor": 5
}
