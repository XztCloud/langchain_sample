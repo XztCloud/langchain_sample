{
 "cells": [
  {
   "cell_type": "markdown",
   "id": "01fbf277-d370-40a2-86ba-543460880775",
   "metadata": {},
   "source": [
    "# 解析单个大文件\n",
    "使用RecursiveCharacterTextSplitter 切分文档；使用 load_summarize_chain 创建总结链，总结链调用分割后的文档列表，输出文档总结； 使用 DashScopeEmbeddings 将切分的文本转换成向量，并存入FAISS向量数据库，使用RetrievalQA创建检索链"
   ]
  },
  {
   "cell_type": "code",
   "execution_count": 1,
   "id": "ca14d161-2d5b-4a6c-a296-77d8ce4b28cd",
   "metadata": {},
   "outputs": [],
   "source": [
    "from langchain.chat_models import init_chat_model\n",
    "from langchain_community.embeddings import DashScopeEmbeddings\n",
    "import os\n",
    "from dotenv import load_dotenv\n",
    "\n",
    "\n",
    "load_dotenv()\n",
    "# 初始化模型\n",
    "os.environ[\"OPENAI_API_KEY\"] = os.getenv(\"DASHSCOPE_API_KEY\")\n",
    "os.environ[\"OPENAI_BASE_URL\"] = \"https://dashscope.aliyuncs.com/compatible-mode/v1\"\n",
    "\n",
    "# 初始化LLM\n",
    "llm = init_chat_model(model=\"qwen-plus\", model_provider=\"openai\")\n",
    "\n",
    "# 初始化嵌入模型\n",
    "embeddings = DashScopeEmbeddings(\n",
    "    model=\"text-embedding-v1\",\n",
    "    dashscope_api_key=os.getenv(\"DASHSCOPE_API_KEY\")\n",
    ")"
   ]
  },
  {
   "cell_type": "code",
   "execution_count": 2,
   "id": "0871a753-f5bb-4b4f-a394-f87f2691f659",
   "metadata": {},
   "outputs": [
    {
     "name": "stdout",
     "output_type": "stream",
     "text": [
      "step end.\n"
     ]
    }
   ],
   "source": [
    "from langchain_community.document_loaders import TextLoader\n",
    "from langchain.text_splitter import RecursiveCharacterTextSplitter\n",
    "\n",
    "# 读取文档\n",
    "file_path = \"./docs/state_of_the_union.txt\"\n",
    "loader = TextLoader(file_path, encoding='utf-8')\n",
    "text = loader.load()\n",
    "    \n",
    "# 拆分大文本，防止超长输入\n",
    "text_splitter = RecursiveCharacterTextSplitter(\n",
    "    chunk_size=1000,    # 每块约1000字符，可调整\n",
    "    chunk_overlap=200,  # 两端的重叠部分长度\n",
    "    length_function=len,\n",
    ")\n",
    "split_docs = text_splitter.split_documents(text)\n",
    "print(\"step end.\")"
   ]
  },
  {
   "cell_type": "code",
   "execution_count": 3,
   "id": "e6f86428-3c2c-46a0-a57c-e22826fdbf91",
   "metadata": {},
   "outputs": [
    {
     "name": "stderr",
     "output_type": "stream",
     "text": [
      "D:\\Code\\full-stack-fastapi-template\\backend\\venv\\Lib\\site-packages\\langchain_openai\\chat_models\\base.py:401: UserWarning: Unexpected type for token usage: <class 'NoneType'>\n",
      "  warnings.warn(f\"Unexpected type for token usage: {type(new_usage)}\")\n"
     ]
    },
    {
     "name": "stdout",
     "output_type": "stream",
     "text": [
      "《人类简史》是以色列历史学家尤瓦尔·赫拉利所著、林俊宏翻译的畅销书，由中信出版社于2014年出版。全书从宏观视角回顾人类历史，分为认知革命、农业革命、人类融合与科学革命四部分，融合历史、生物学、物理学等多学科知识，反思人类中心主义、资本主义、科学滥用及幸福本质。书中指出，智人并非唯一人类物种，约1万年前才成为唯一幸存者，并迅速改变生态与社会结构。关于智人起源与尼安德特人互动，存在混种繁衍与替代理论，基因证据支持混种理论，但争议尚存。该书因其跨学科视角与深刻哲思受到广泛关注。\n",
      "step end.\n"
     ]
    }
   ],
   "source": [
    "from langchain.chains.summarize import load_summarize_chain\n",
    "\n",
    "# 创建总结链\n",
    "summarychain = load_summarize_chain(llm, chain_type=\"map_reduce\")\n",
    "\n",
    "# 生成总结\n",
    "summary = summarychain.invoke(split_docs)\n",
    "print(summary[\"output_text\"])\n",
    "print(\"step end.\")"
   ]
  },
  {
   "cell_type": "markdown",
   "id": "ee6d9c6a-3794-40b5-814a-4ee76b605004",
   "metadata": {},
   "source": [
    "# chain_type常见种类：\n",
    "\n",
    "### 1. \"stuff\"\n",
    "- 原理：把检索到的所有文档内容直接“塞进”（stuff）提示词里，交给 LLM 处理。\n",
    "- 优点：简单、直接，效果好（上下文不会被切割）。\n",
    "- 缺点：如果检索结果太多，容易超过模型的 max_tokens。\n",
    "- 👉 适合 小规模文档，比如 FAQ、配置文件。\n",
    "\n",
    "### 2. \"map_reduce\"\n",
    "- 原理：\n",
    "  map：LLM 先对每个文档单独回答问题。\n",
    "  reduce：再把这些回答合并，总结出一个最终回答。\n",
    "- 优点：支持大量文档（分布式处理）。\n",
    "- 缺点：回答可能丢失细节，因为 reduce 依赖 LLM 总结。\n",
    "- 👉 适合 大规模文档，需要归纳总结的场景。\n",
    "\n",
    "### 3. \"refine\"\n",
    "- 原理：\n",
    "  先用第一篇文档生成一个初步回答。\n",
    "  然后依次遍历后续文档，每次都“改进 / refine”这个回答。\n",
    "- 优点：逐步优化，能结合更多文档信息。\n",
    "- 缺点：速度慢，可能遗忘前面的信息。\n",
    "- 👉 适合 需要整合多个文档，且对准确性要求高的场景。\n",
    "\n",
    "### 4. \"map_rerank\"\n",
    "- 原理：\n",
    "  map：对每个文档单独生成一个回答，并给出“相关性评分”。\n",
    "  rerank：选择最相关的回答返回。\n",
    "- 优点：能过滤掉噪声文档，提升回答质量。\n",
    "- 缺点：可能漏掉一些辅助信息。\n",
    "- 👉 适合 对相关性要求高的问答（例如法律文档检索）。"
   ]
  },
  {
   "cell_type": "code",
   "execution_count": 4,
   "id": "b23ab8d9-4732-4d01-a037-02065a60f944",
   "metadata": {},
   "outputs": [
    {
     "name": "stdout",
     "output_type": "stream",
     "text": [
      "根据上述内容，人类与其他生物之间的不同，可以从以下几个关键方面体现出来：\n",
      "\n",
      "1. **强大的社交技巧和复杂的社会结构**  \n",
      "   人类之所以具有突出的社交技巧，是因为早期的人类母亲在养育孩子时需要其他家族成员和邻居的持续协助。因此，演化更倾向于那些能够形成强大社会关系的种族。这种高度的社会合作使得人类能够建立复杂的社会结构。\n",
      "\n",
      "2. **高度的可塑性和社会化能力**  \n",
      "   人类出生时身体和大脑都尚未完全发育，这赋予了人类极高的可塑性。与大多数哺乳动物（出生时几乎“固定成型”）不同，人类可以被教育和社会化深刻地塑造。这种特性使得人类能够接受不同的文化、信仰和价值观，从而形成多样化的社会群体。\n",
      "\n",
      "3. **大脑容量和认知能力**  \n",
      "   人类的大脑明显大于其他动物。例如，现代智人的脑容量平均为1200~1400立方厘米，而其他哺乳动物的脑容量则小得多。这种大脑的进化使得人类具备了使用工具、学习、解决问题以及创造文化的能力。\n",
      "\n",
      "4. **文化的发展和历史的积累**  \n",
      "   人类在大约7万年前经历了“认知革命”，开始创造复杂的社会文化。这些文化随着时间的推移不断发展，最终形成了历史学、艺术、宗教、哲学等独特的人类领域。\n",
      "\n",
      "5. **改变环境的能力**  \n",
      "   虽然早期人类在食物链中处于中游位置，但随着时间的推移，人类逐渐掌握了狩猎大型动物、农业生产和科学技术，最终成为地球上最具影响力的物种。这种改变环境的能力是其他生物所不具备的。\n",
      "\n",
      "6. **独特的合作和沟通能力**  \n",
      "   人类能够通过语言和符号系统进行复杂的沟通，并基于共同的信念和规则进行大规模合作。这种能力使得人类能够超越家庭或小群体的限制，形成国家、宗教、经济体系等更大规模的社会组织。\n",
      "\n",
      "综上所述，人类与其他生物的不同体现在其高度的社会性、强大的可塑性、发达的大脑和认知能力、复杂的文化发展，以及改变环境和大规模合作的能力。\n"
     ]
    }
   ],
   "source": [
    "from langchain_community.vectorstores import FAISS\n",
    "from langchain.chains import RetrievalQA\n",
    "# 创建向量数据库\n",
    "vector_store = FAISS.from_documents(split_docs, embeddings)\n",
    "# 创建检索QA链\n",
    "qa_chain = RetrievalQA.from_chain_type(\n",
    "    llm=llm,\n",
    "    chain_type=\"stuff\",\n",
    "    retriever=vector_store.as_retriever()\n",
    ")\n",
    "\n",
    "# 回答问题\n",
    "result = qa_chain.invoke({\"query\": \"什么东西可以体现认类与其他生物之间的不同\"})\n",
    "print(result[\"result\"])\n",
    "print(\"step end.\")"
   ]
  },
  {
   "cell_type": "code",
   "execution_count": null,
   "id": "5ccd3564-cd71-4484-af26-45c360c68945",
   "metadata": {},
   "outputs": [],
   "source": []
  }
 ],
 "metadata": {
  "kernelspec": {
   "display_name": "Python 3 (ipykernel)",
   "language": "python",
   "name": "python3"
  },
  "language_info": {
   "codemirror_mode": {
    "name": "ipython",
    "version": 3
   },
   "file_extension": ".py",
   "mimetype": "text/x-python",
   "name": "python",
   "nbconvert_exporter": "python",
   "pygments_lexer": "ipython3",
   "version": "3.12.7"
  }
 },
 "nbformat": 4,
 "nbformat_minor": 5
}
